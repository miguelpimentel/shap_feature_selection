{
 "cells": [
  {
   "cell_type": "code",
   "execution_count": null,
   "id": "c46f4a95",
   "metadata": {},
   "outputs": [],
   "source": [
    "import pandas as pd\n",
    "import numpy as np\n",
    "\n",
    "import time\n",
    "import os \n",
    "\n",
    "from sklearn.model_selection import train_test_split\n",
    "from sklearn.ensemble import RandomForestClassifier\n",
    "from sklearn.metrics import classification_report\n",
    "\n",
    "from sklearn.datasets import load_boston\n",
    "\n",
    "import shap"
   ]
  },
  {
   "cell_type": "markdown",
   "id": "5c7c6e0d",
   "metadata": {},
   "source": [
    "## 1.  Model - No filter selection"
   ]
  },
  {
   "cell_type": "markdown",
   "id": "d297d8d2",
   "metadata": {},
   "source": [
    "#### 1. Load dataset "
   ]
  },
  {
   "cell_type": "code",
   "execution_count": null,
   "id": "7fda2ebe",
   "metadata": {},
   "outputs": [],
   "source": [
    "df = load_boston(return_X_y=True)"
   ]
  },
  {
   "cell_type": "code",
   "execution_count": null,
   "id": "a216ba4f",
   "metadata": {},
   "outputs": [],
   "source": [
    "print(df.shape)\n",
    "df.head()"
   ]
  },
  {
   "cell_type": "code",
   "execution_count": null,
   "id": "0b95d0ac",
   "metadata": {
    "scrolled": true
   },
   "outputs": [],
   "source": [
    "df.isnull().sum()"
   ]
  },
  {
   "cell_type": "code",
   "execution_count": null,
   "id": "669a6d89",
   "metadata": {},
   "outputs": [],
   "source": [
    "df = df.apply(pd.to_numeric, errors='ignore')"
   ]
  },
  {
   "cell_type": "code",
   "execution_count": null,
   "id": "33d0d5ef",
   "metadata": {},
   "outputs": [],
   "source": []
  },
  {
   "cell_type": "code",
   "execution_count": null,
   "id": "43dfeb0d",
   "metadata": {},
   "outputs": [],
   "source": [
    "# for continuous variable\n",
    "df['Number of sexual partners'] = df['Number of sexual partners'].fillna(df['Number of sexual partners'].median())\n",
    "df['First sexual intercourse'] = df['First sexual intercourse'].fillna(df['First sexual intercourse'].median())\n",
    "df['Num of pregnancies'] = df['Num of pregnancies'].fillna(df['Num of pregnancies'].median())\n",
    "df['Smokes'] = df['Smokes'].fillna(1)\n",
    "df['Smokes (years)'] = df['Smokes (years)'].fillna(df['Smokes (years)'].median())\n",
    "df['Smokes (packs/year)'] = df['Smokes (packs/year)'].fillna(df['Smokes (packs/year)'].median())\n",
    "df['Hormonal Contraceptives'] = df['Hormonal Contraceptives'].fillna(1)\n",
    "df['Hormonal Contraceptives (years)'] = df['Hormonal Contraceptives (years)'].fillna(df['Hormonal Contraceptives (years)'].median())\n",
    "df['IUD'] = df['IUD'].fillna(0)\n",
    "df['IUD (years)'] = df['IUD (years)'].fillna(0)\n",
    "df['STDs'] = df['STDs'].fillna(1)\n",
    "df['STDs (number)'] = df['STDs (number)'].fillna(df['STDs (number)'].median())\n",
    "df['STDs:condylomatosis'] = df['STDs:condylomatosis'].fillna(df['STDs:condylomatosis'].median())\n",
    "df['STDs:cervical condylomatosis'] = df['STDs:cervical condylomatosis'].fillna(df['STDs:cervical condylomatosis'].median())\n",
    "df['STDs:vaginal condylomatosis'] = df['STDs:vaginal condylomatosis'].fillna(df['STDs:vaginal condylomatosis'].median())\n",
    "df['STDs:vulvo-perineal condylomatosis'] = df['STDs:vulvo-perineal condylomatosis'].fillna(df['STDs:vulvo-perineal condylomatosis'].median())\n",
    "df['STDs:syphilis'] = df['STDs:syphilis'].fillna(df['STDs:syphilis'].median())\n",
    "df['STDs:pelvic inflammatory disease'] = df['STDs:pelvic inflammatory disease'].fillna(df['STDs:pelvic inflammatory disease'].median())\n",
    "df['STDs:genital herpes'] = df['STDs:genital herpes'].fillna(df['STDs:genital herpes'].median())\n",
    "df['STDs:molluscum contagiosum'] = df['STDs:molluscum contagiosum'].fillna(df['STDs:molluscum contagiosum'].median())\n",
    "df['STDs:AIDS'] = df['STDs:AIDS'].fillna(df['STDs:AIDS'].median())\n",
    "df['STDs:HIV'] = df['STDs:HIV'].fillna(df['STDs:HIV'].median())\n",
    "df['STDs:Hepatitis B'] = df['STDs:Hepatitis B'].fillna(df['STDs:Hepatitis B'].median())\n",
    "df['STDs:HPV'] = df['STDs:HPV'].fillna(df['STDs:HPV'].median())\n",
    "df['STDs: Time since first diagnosis'] = df['STDs: Time since first diagnosis'].fillna(df['STDs: Time since first diagnosis'].median())\n",
    "df['STDs: Time since last diagnosis'] = df['STDs: Time since last diagnosis'].fillna(df['STDs: Time since last diagnosis'].median())"
   ]
  },
  {
   "cell_type": "code",
   "execution_count": null,
   "id": "5ee3b316",
   "metadata": {},
   "outputs": [],
   "source": [
    "df.isnull().sum()"
   ]
  },
  {
   "cell_type": "code",
   "execution_count": null,
   "id": "e4e62090",
   "metadata": {
    "scrolled": true
   },
   "outputs": [],
   "source": [
    "df.describe()"
   ]
  },
  {
   "cell_type": "code",
   "execution_count": null,
   "id": "ae87c451",
   "metadata": {},
   "outputs": [],
   "source": [
    "df = pd.get_dummies(data=df, columns=['Smokes','Hormonal Contraceptives','IUD','STDs',\n",
    "                                      'Dx:Cancer','Dx:CIN','Dx:HPV','Dx','Hinselmann','Citology','Schiller'])"
   ]
  },
  {
   "cell_type": "code",
   "execution_count": null,
   "id": "7f7e1ed2",
   "metadata": {},
   "outputs": [],
   "source": [
    "df.head()"
   ]
  },
  {
   "cell_type": "markdown",
   "id": "3bb2c852",
   "metadata": {},
   "source": [
    "#### 2. Clean dataset "
   ]
  },
  {
   "cell_type": "code",
   "execution_count": null,
   "id": "46ed361f",
   "metadata": {},
   "outputs": [],
   "source": [
    "\n",
    "\n",
    "\n",
    "x = df.drop(columns=['Biopsy', 'id', 'Unnamed: 32'])\n",
    "y = df['diagnosis'].map({\"M\": 0, \"B\": 1})\n",
    "\n",
    "\n",
    "print(x.shape)"
   ]
  },
  {
   "cell_type": "markdown",
   "id": "9bc440af",
   "metadata": {},
   "source": [
    "#### 3. Train Model"
   ]
  },
  {
   "cell_type": "code",
   "execution_count": null,
   "id": "de0fab00",
   "metadata": {},
   "outputs": [],
   "source": [
    "x_train, x_val, y_train, y_val = train_test_split(x, y, train_size=0.7)\n",
    "\n",
    "start = time.time()\n",
    "model = RandomForestClassifier()\n",
    "model.fit(x_train, y_train)\n",
    "stop = time.time()\n",
    "\n",
    "print(f\"Training time: {(stop - start) * 1000 }s\")"
   ]
  },
  {
   "cell_type": "markdown",
   "id": "0460de32",
   "metadata": {},
   "source": [
    "#### 4. Model Results"
   ]
  },
  {
   "cell_type": "code",
   "execution_count": null,
   "id": "1fcc6406",
   "metadata": {},
   "outputs": [],
   "source": [
    "prediction = model.predict(x_val)\n",
    "print(classification_report(y_val, prediction))"
   ]
  },
  {
   "cell_type": "markdown",
   "id": "82799bcc",
   "metadata": {},
   "source": [
    "## 2. Apply Feature Selection (Shap)"
   ]
  },
  {
   "cell_type": "code",
   "execution_count": null,
   "id": "08acf256",
   "metadata": {},
   "outputs": [],
   "source": [
    "shap.initjs()\n",
    "\n",
    "explainer = shap.Explainer(model)\n",
    "start = time.time()\n",
    "shap_values = explainer.shap_values(x_train)\n",
    "stop = time.time()\n",
    "print(f\"Training time: {(stop - start) * 1000}s\")"
   ]
  },
  {
   "cell_type": "code",
   "execution_count": null,
   "id": "3969b234",
   "metadata": {
    "scrolled": false
   },
   "outputs": [],
   "source": [
    "shap.summary_plot(shap_values, x_train)"
   ]
  },
  {
   "cell_type": "code",
   "execution_count": null,
   "id": "5aba69c3",
   "metadata": {
    "scrolled": true
   },
   "outputs": [],
   "source": [
    "vals= np.abs(shap_values[1]).mean(0)\n",
    "feature_importance = pd.DataFrame(list(zip(x_train.columns,vals)),columns=['feature_name','importance_value'])\n",
    "feature_importance.sort_values(by=['importance_value'],ascending=False,inplace=True)\n",
    "\n",
    "print(feature_importance.to_latex())"
   ]
  },
  {
   "cell_type": "code",
   "execution_count": null,
   "id": "33f23817",
   "metadata": {},
   "outputs": [],
   "source": [
    "def get_shap_df():\n",
    "    vals = np.abs(shap_values[1]).mean(0) # This applies to random forest trees\n",
    "    feature_importance = pd.DataFrame(list(zip(x_train.columns,vals)),columns=['feature_name','importance_value'])\n",
    "    feature_importance.sort_values(by=['importance_value'],ascending=False,inplace=True)\n",
    "    \n",
    "    return feature_importance\n",
    "    \n",
    "\n",
    "def get_feature_names(df, p_value=None):\n",
    "    filtered_array = []\n",
    "    for index, row in df.iterrows():\n",
    "        if p_value != None:\n",
    "            if row['importance_value'] >= p_value:\n",
    "                filtered_array.append(row['feature_name'])\n",
    "    \n",
    "    return filtered_array\n",
    "\n",
    "def get_feature_value(df, p_value=None):\n",
    "    filtered_array = []\n",
    "    for index, row in df.iterrows():\n",
    "        if p_value != None:\n",
    "            if row['importance_value'] >= p_value:\n",
    "                filtered_array.append(row['feature_name'])\n",
    "    \n",
    "    return filtered_array\n",
    "\n",
    "def get_sum(df):\n",
    "    value = 0\n",
    "    for index, row in df.iterrows():\n",
    "        value = value + row['importance_value']\n",
    "\n",
    "    return value"
   ]
  },
  {
   "cell_type": "markdown",
   "id": "ba06ca99",
   "metadata": {},
   "source": [
    "## 3. Experiment"
   ]
  },
  {
   "cell_type": "code",
   "execution_count": null,
   "id": "ac8537a4",
   "metadata": {},
   "outputs": [],
   "source": [
    "measures_data = []\n",
    "featured_names = []\n",
    "\n",
    "filtered_x = x\n",
    "\n",
    "import os\n",
    "\n",
    "def get_measures(feature, classification_report, training_time, shap_value, storage): \n",
    "    accuracy = classification_report[\"accuracy\"]\n",
    "    measures_data.append([feature, accuracy, training_time, shap_value, storage])\n",
    "\n",
    "def train_model(feature, shap_value):\n",
    "    featured_names.append(feature)\n",
    "    \n",
    "    x = df[featured_names]\n",
    "    y = df['diagnosis']\n",
    "    \n",
    "    x_train, x_val, y_train, y_val = train_test_split(x, y, train_size=0.7)\n",
    "   \n",
    "    model = RandomForestClassifier()\n",
    "    start = time.time()\n",
    "    model.fit(x_train, y_train)\n",
    "    stop = time.time()\n",
    "    prediction = model.predict(x_val)\n",
    "    \n",
    "    storage = get_storage(featured_names)\n",
    "    training_time = (stop - start) * 1000\n",
    "    classification = classification_report(y_val, prediction, output_dict=True)\n",
    "    get_measures(feature, classification, training_time, shap_value, storage)\n",
    "    \n",
    "def get_storage(features):\n",
    "    merged_features = [] + features\n",
    "    temp = df[merged_features]\n",
    "    temp.to_csv('./dataset/temp.csv')\n",
    "    \n",
    "    return os.stat('./dataset/temp.csv').st_size\n",
    "\n",
    "def shap_all(df):\n",
    "    for index, row in df.iterrows():\n",
    "        train_model(row['feature_name'], row['importance_value'])\n"
   ]
  },
  {
   "cell_type": "code",
   "execution_count": null,
   "id": "862e78ad",
   "metadata": {
    "scrolled": true
   },
   "outputs": [],
   "source": [
    "shap_all(feature_importance)\n",
    "\n",
    "measures_df = pd.DataFrame(measures_data, columns = ['Feature Name', 'Accuracy', 'Training Time', 'Shap Value', 'Storage'])\n",
    "\n",
    "measures_df.to_csv('./results/random-forest/cancer-breast-random-forest-report.csv')"
   ]
  },
  {
   "cell_type": "code",
   "execution_count": null,
   "id": "f671da54",
   "metadata": {
    "scrolled": true
   },
   "outputs": [],
   "source": [
    "measures_df.head()"
   ]
  },
  {
   "cell_type": "code",
   "execution_count": null,
   "id": "3a52c87f",
   "metadata": {},
   "outputs": [],
   "source": [
    "import matplotlib.pyplot as plt\n",
    "\n",
    "def show_accuracy_chart(df):\n",
    "    temp_1 = df['Accuracy'].tolist()\n",
    "    temp_2 = list(range(1,31))\n",
    "    plt.xlabel(\"Number of features\")\n",
    "    plt.ylabel(\"Accuracy (%)\")\n",
    "    plt.plot(temp_2, temp_1)\n",
    "    plt.savefig('./results/random-forest/random-forest-accuracy.png')\n",
    "    \n",
    "def show_storage_chart(df):\n",
    "    temp_1 = df['Storage'].tolist()\n",
    "    temp_2 = list(range(1,31))\n",
    "    plt.xlabel(\"Number of features\")\n",
    "    plt.ylabel(\"Storage (bytes)\")\n",
    "    plt.plot(temp_2, temp_1)\n",
    "    plt.savefig('./results/random-forest/random-forest-storage.png')\n",
    "    \n",
    "def show_training_chart(df):\n",
    "    temp_1 = df['Training Time'].tolist()\n",
    "    temp_2 = list(range(1,31))\n",
    "    plt.xlabel(\"Number of features\")\n",
    "    plt.ylabel(\"Time (ms)\")\n",
    "    plt.plot(temp_2, temp_1)\n",
    "    plt.savefig('./results/random-forest/random-forest-training-time.png')"
   ]
  },
  {
   "cell_type": "code",
   "execution_count": null,
   "id": "6e1d450e",
   "metadata": {
    "scrolled": false
   },
   "outputs": [],
   "source": [
    "show_accuracy_chart(measures_df)"
   ]
  },
  {
   "cell_type": "code",
   "execution_count": null,
   "id": "d5b3ed42",
   "metadata": {},
   "outputs": [],
   "source": [
    "show_storage_chart(measures_df)"
   ]
  },
  {
   "cell_type": "code",
   "execution_count": null,
   "id": "892bb3b6",
   "metadata": {},
   "outputs": [],
   "source": [
    "show_training_chart(measures_df)"
   ]
  }
 ],
 "metadata": {
  "kernelspec": {
   "display_name": "Python 3.8 - XAI",
   "language": "python",
   "name": "xai"
  },
  "language_info": {
   "codemirror_mode": {
    "name": "ipython",
    "version": 3
   },
   "file_extension": ".py",
   "mimetype": "text/x-python",
   "name": "python",
   "nbconvert_exporter": "python",
   "pygments_lexer": "ipython3",
   "version": "3.9.4"
  }
 },
 "nbformat": 4,
 "nbformat_minor": 5
}
