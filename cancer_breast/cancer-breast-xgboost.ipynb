{
 "cells": [
  {
   "cell_type": "code",
   "execution_count": null,
   "id": "c46f4a95",
   "metadata": {},
   "outputs": [
    {
     "name": "stdout",
     "output_type": "stream",
     "text": [
      "INFO:tensorflow:Enabling eager execution\n",
      "INFO:tensorflow:Enabling v2 tensorshape\n",
      "INFO:tensorflow:Enabling resource variables\n",
      "INFO:tensorflow:Enabling tensor equality\n",
      "INFO:tensorflow:Enabling control flow v2\n"
     ]
    }
   ],
   "source": [
    "import pandas as pd\n",
    "import numpy as np\n",
    "\n",
    "import time\n",
    "\n",
    "from sklearn.model_selection import train_test_split\n",
    "from sklearn.metrics import classification_report\n",
    "\n",
    "import xgboost as xgb\n",
    "from xgboost import XGBClassifier\n",
    "\n",
    "import shap"
   ]
  },
  {
   "cell_type": "markdown",
   "id": "5c7c6e0d",
   "metadata": {},
   "source": [
    "## 1.  Model - No filter selection"
   ]
  },
  {
   "cell_type": "markdown",
   "id": "d297d8d2",
   "metadata": {},
   "source": [
    "#### 1. Load dataset "
   ]
  },
  {
   "cell_type": "code",
   "execution_count": null,
   "id": "7fda2ebe",
   "metadata": {},
   "outputs": [],
   "source": [
    "df = pd.read_csv(\"./dataset/data-t1.csv\")"
   ]
  },
  {
   "cell_type": "code",
   "execution_count": null,
   "id": "a216ba4f",
   "metadata": {},
   "outputs": [],
   "source": [
    "print(df.shape)\n",
    "df.head()"
   ]
  },
  {
   "cell_type": "markdown",
   "id": "3bb2c852",
   "metadata": {},
   "source": [
    "#### 2. Clean dataset "
   ]
  },
  {
   "cell_type": "code",
   "execution_count": null,
   "id": "46ed361f",
   "metadata": {},
   "outputs": [],
   "source": [
    "x = df.drop(columns=['diagnosis', 'id', 'Unnamed: 32'])\n",
    "y = df['diagnosis'].map({\"M\": 0, \"B\": 1})\n",
    "\n",
    "print(x.shape)"
   ]
  },
  {
   "cell_type": "markdown",
   "id": "9bc440af",
   "metadata": {},
   "source": [
    "#### 3. Train Model"
   ]
  },
  {
   "cell_type": "code",
   "execution_count": null,
   "id": "de0fab00",
   "metadata": {},
   "outputs": [],
   "source": [
    "x_train, x_test, y_train, y_test = train_test_split(x, y, train_size=0.7)\n",
    "\n",
    "model = XGBClassifier()\n",
    "start = time.time()\n",
    "model.fit(x_train, y_train)\n",
    "stop = time.time()\n",
    "\n",
    "print(f\"Training time: {(stop - start) * 1000 }ms\")"
   ]
  },
  {
   "cell_type": "markdown",
   "id": "0460de32",
   "metadata": {},
   "source": [
    "#### 4. Model Results"
   ]
  },
  {
   "cell_type": "markdown",
   "id": "82799bcc",
   "metadata": {},
   "source": [
    "## 2. Apply Feature Selection (Shap)"
   ]
  },
  {
   "cell_type": "code",
   "execution_count": null,
   "id": "08acf256",
   "metadata": {
    "scrolled": true
   },
   "outputs": [],
   "source": [
    "shap.initjs()\n",
    "\n",
    "explainer = shap.Explainer(model)\n",
    "\n",
    "start = time.time()\n",
    "shap_values = explainer.shap_values(x_train)\n",
    "stop = time.time()\n",
    "\n",
    "print(f\"Training time: {(stop - start) * 1000 }ms\")"
   ]
  },
  {
   "cell_type": "code",
   "execution_count": null,
   "id": "dec39b86",
   "metadata": {},
   "outputs": [],
   "source": [
    "import matplotlib.pyplot as plt"
   ]
  },
  {
   "cell_type": "code",
   "execution_count": null,
   "id": "3969b234",
   "metadata": {
    "scrolled": false
   },
   "outputs": [],
   "source": [
    "shap.summary_plot(shap_values, x_train, max_display=len(x.columns))"
   ]
  },
  {
   "cell_type": "code",
   "execution_count": null,
   "id": "5aba69c3",
   "metadata": {
    "scrolled": true
   },
   "outputs": [],
   "source": [
    "vals= np.abs(shap_values).mean(0)\n",
    "feature_importance = pd.DataFrame(list(zip(x_train.columns, vals)),columns=['feature_name','importance_value'])\n",
    "feature_importance.sort_values(by=['importance_value'],ascending=False,inplace=True)\n",
    "feature_importance.to_csv('./results/shap-xgboost-decreasing.csv')\n",
    "\n",
    "print(feature_importance.to_latex())"
   ]
  },
  {
   "cell_type": "code",
   "execution_count": null,
   "id": "1e738f26",
   "metadata": {},
   "outputs": [],
   "source": [
    "import os\n",
    "\n",
    "measures_data = []\n",
    "featured_names = []\n",
    "\n",
    "def print_classification_report(classification_report):\n",
    "    accuracy = classification_report[\"accuracy\"]\n",
    "    precision = classification_report[\"weighted avg\"][\"precision\"]\n",
    "    f1_score = classification_report[\"weighted avg\"][\"f1-score\"]\n",
    "    recall = classification_report[\"weighted avg\"][\"recall\"]\n",
    "    \n",
    "    print(f\"Accuracy: {accuracy}\")\n",
    "    print(f\"Precision: {precision}\")\n",
    "    print(f\"F1 Score: {f1_score}\")\n",
    "    print(f\"Recall: {recall}\")\n",
    "    print(f\"Training time: {(stop - start) * 1000 }s\")\n",
    "\n",
    "def get_measures(feature, classification_report, training_time, shap_value, storage): \n",
    "    accuracy = classification_report[\"accuracy\"]\n",
    "    precision = classification_report[\"weighted avg\"][\"precision\"]\n",
    "    f1_score = classification_report[\"weighted avg\"][\"f1-score\"]\n",
    "    recall = classification_report[\"weighted avg\"][\"recall\"]\n",
    "    \n",
    "    measures_data.append([feature, accuracy, precision, recall, f1_score, training_time, shap_value, storage])\n",
    "\n",
    "def train_model(feature, shap_value):\n",
    "    featured_names.append(feature)\n",
    "    x = df[featured_names]\n",
    "    y = df['diagnosis'].map({\"M\": 0, \"B\": 1})\n",
    "    \n",
    "    x_train, x_test, y_train, y_test = train_test_split(x, y, train_size=0.7)\n",
    "\n",
    "    model = XGBClassifier()\n",
    "    start = time.time()\n",
    "    model.fit(x_train, y_train)\n",
    "    stop = time.time()\n",
    "    \n",
    "    predict = model.predict(x_test)\n",
    "    \n",
    "    storage = get_storage(featured_names)\n",
    "    training_time = (stop - start) * 1000\n",
    "    classification = classification_report(y_test, predict, output_dict=True)\n",
    "    get_measures(feature, classification, training_time, shap_value, storage)\n",
    "    \n",
    "def get_storage(features):\n",
    "    merged_features = ['diagnosis', 'id', 'Unnamed: 32'] + features\n",
    "    temp = df[merged_features]\n",
    "    temp.to_csv('./dataset/temp.csv')\n",
    "    \n",
    "    return os.stat('./dataset/temp.csv').st_size\n",
    "            \n",
    "def shap_all(df):\n",
    "    for index, row in df.iterrows():\n",
    "        train_model(row['feature_name'], row['importance_value'])"
   ]
  },
  {
   "cell_type": "code",
   "execution_count": null,
   "id": "1428a8e5",
   "metadata": {},
   "outputs": [],
   "source": [
    "shap_all(feature_importance)\n",
    "\n",
    "measures_df = pd.DataFrame(measures_data, columns = ['Feature Name', 'Accuracy', 'Precision', 'Recall', 'F1 Score', 'Training Time', 'Shap Value', 'Storage'])\n",
    "\n",
    "measures_df.to_csv('./results/xgboost/cancer-breast-xgboost-report.csv')"
   ]
  },
  {
   "cell_type": "code",
   "execution_count": null,
   "id": "be9b48dd",
   "metadata": {},
   "outputs": [],
   "source": [
    "measures_df.head()"
   ]
  },
  {
   "cell_type": "code",
   "execution_count": null,
   "id": "036094bb",
   "metadata": {},
   "outputs": [],
   "source": [
    "import matplotlib.pyplot as plt\n",
    "\n",
    "# Performance\n",
    "\n",
    "def show_accuracy_chart(df):\n",
    "    temp_1 = df['Accuracy'].tolist()\n",
    "    temp_2 = list(range(1,31))\n",
    "    plt.xlabel(\"Number of features\")\n",
    "    plt.ylabel(\"Accuracy (%)\")\n",
    "    plt.plot(temp_2, temp_1)\n",
    "    plt.savefig('./results/xgboost/xgboost-accuracy.png')\n",
    "    \n",
    "def show_precision_chart(df):\n",
    "    temp_1 = df['Precision'].tolist()\n",
    "    temp_2 = list(range(1,31))\n",
    "    plt.xlabel(\"Number of features\")\n",
    "    plt.ylabel(\"Precision (%)\")\n",
    "    plt.plot(temp_2, temp_1)\n",
    "    plt.savefig('./results/xgboost/xgboost-precision.png')\n",
    "    \n",
    "def show_recall_chart(df):\n",
    "    temp_1 = df['Recall'].tolist()\n",
    "    temp_2 = list(range(1,31))\n",
    "    plt.xlabel(\"Number of features\")\n",
    "    plt.ylabel(\"Recall (%)\")\n",
    "    plt.plot(temp_2, temp_1)\n",
    "    plt.savefig('./results/xgboost/xgboost-recall.png')\n",
    "    \n",
    "def show_f1_score_chart(df):\n",
    "    temp_1 = df['F1 Score'].tolist()\n",
    "    temp_2 = list(range(1,31))\n",
    "    plt.xlabel(\"Number of features\")\n",
    "    plt.ylabel(\"F1 Score (%)\")\n",
    "    plt.plot(temp_2, temp_1)\n",
    "    plt.savefig('./results/xgboost/xgboost-f1-score.png')\n",
    "    \n",
    "# Storage\n",
    "    \n",
    "def show_storage_chart(df):\n",
    "    temp_1 = df['Storage'].tolist()\n",
    "    temp_2 = list(range(1,31))\n",
    "    plt.xlabel(\"Number of features\")\n",
    "    plt.ylabel(\"Storage (bytes)\")\n",
    "    plt.plot(temp_2, temp_1)\n",
    "    plt.savefig('./results/xgboost/xgboost-storage.png')\n",
    "    \n",
    "# Training Time\n",
    "    \n",
    "def show_training_chart(df):\n",
    "    temp_1 = df['Training Time'].tolist()\n",
    "    temp_2 = list(range(1,31))\n",
    "    plt.xlabel(\"Number of features\")\n",
    "    plt.ylabel(\"Time (ms)\")\n",
    "    plt.plot(temp_2, temp_1)\n",
    "    plt.savefig('./results/xgboost/xgboost-training-time.png')"
   ]
  },
  {
   "cell_type": "code",
   "execution_count": null,
   "id": "98002ab7",
   "metadata": {
    "scrolled": true
   },
   "outputs": [],
   "source": [
    "show_accuracy_chart(measures_df)"
   ]
  },
  {
   "cell_type": "code",
   "execution_count": null,
   "id": "50c91277",
   "metadata": {},
   "outputs": [],
   "source": [
    "show_precision_chart(measures_df)"
   ]
  },
  {
   "cell_type": "code",
   "execution_count": null,
   "id": "644b9b28",
   "metadata": {},
   "outputs": [],
   "source": [
    "show_recall_chart(measures_df)"
   ]
  },
  {
   "cell_type": "code",
   "execution_count": null,
   "id": "e00b5643",
   "metadata": {},
   "outputs": [],
   "source": [
    "show_f1_score_chart(measures_df)"
   ]
  },
  {
   "cell_type": "code",
   "execution_count": null,
   "id": "0d9e973c",
   "metadata": {
    "scrolled": true
   },
   "outputs": [],
   "source": [
    "show_storage_chart(measures_df)"
   ]
  },
  {
   "cell_type": "code",
   "execution_count": null,
   "id": "70e77b18",
   "metadata": {},
   "outputs": [],
   "source": [
    "show_training_chart(measures_df)"
   ]
  }
 ],
 "metadata": {
  "kernelspec": {
   "display_name": "Python 3.8 - XAI",
   "language": "python",
   "name": "xai"
  },
  "language_info": {
   "codemirror_mode": {
    "name": "ipython",
    "version": 3
   },
   "file_extension": ".py",
   "mimetype": "text/x-python",
   "name": "python",
   "nbconvert_exporter": "python",
   "pygments_lexer": "ipython3",
   "version": "3.9.4"
  }
 },
 "nbformat": 4,
 "nbformat_minor": 5
}
